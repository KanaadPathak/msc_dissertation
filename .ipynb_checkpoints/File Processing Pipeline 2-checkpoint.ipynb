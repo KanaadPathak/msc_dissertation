{
 "cells": [
  {
   "cell_type": "markdown",
   "metadata": {},
   "source": [
    "## 1. Importing the libraries"
   ]
  },
  {
   "cell_type": "code",
   "execution_count": 81,
   "metadata": {},
   "outputs": [],
   "source": [
    "import cv2\n",
    "import pandas as pd\n",
    "from matplotlib.pyplot import imshow \n",
    "import warnings\n",
    "warnings.simplefilter('ignore')\n",
    "from tqdm import tqdm\n",
    "import numpy as np\n",
    "%matplotlib inline\n",
    "import datetime, os, time\n",
    "from sklearn import preprocessing\n",
    "from sklearn.model_selection import train_test_split\n",
    "import seaborn as sns\n",
    "import shutil\n",
    "from PIL import Image\n",
    "os.chdir(\"/home/kanaad/Desktop/Strathclyde/Project/IchMLP/HHP/simulation/cropped pas stained images hhp - 2/\")"
   ]
  },
  {
   "cell_type": "markdown",
   "metadata": {},
   "source": [
    "## 2. Reading the Schizont file"
   ]
  },
  {
   "cell_type": "code",
   "execution_count": 82,
   "metadata": {},
   "outputs": [],
   "source": [
    "excel = pd.read_excel('Schizont measurements.xlsx')"
   ]
  },
  {
   "cell_type": "code",
   "execution_count": 83,
   "metadata": {},
   "outputs": [
    {
     "data": {
      "text/html": [
       "<div>\n",
       "<style scoped>\n",
       "    .dataframe tbody tr th:only-of-type {\n",
       "        vertical-align: middle;\n",
       "    }\n",
       "\n",
       "    .dataframe tbody tr th {\n",
       "        vertical-align: top;\n",
       "    }\n",
       "\n",
       "    .dataframe thead th {\n",
       "        text-align: right;\n",
       "    }\n",
       "</style>\n",
       "<table border=\"1\" class=\"dataframe\">\n",
       "  <thead>\n",
       "    <tr style=\"text-align: right;\">\n",
       "      <th></th>\n",
       "      <th>ID</th>\n",
       "      <th>Sample</th>\n",
       "      <th>No.</th>\n",
       "      <th>No. (target area)</th>\n",
       "      <th>Area</th>\n",
       "      <th>Unit</th>\n",
       "      <th>Perimeter</th>\n",
       "      <th>Unit.1</th>\n",
       "      <th>Major axis</th>\n",
       "      <th>Unit.2</th>\n",
       "      <th>...</th>\n",
       "      <th>Unnamed: 14</th>\n",
       "      <th>Unnamed: 15</th>\n",
       "      <th>THIS DATA HAS BEEN DOUBLE CHECKED FOR ACCURACY</th>\n",
       "      <th>Unnamed: 17</th>\n",
       "      <th>Unnamed: 18</th>\n",
       "      <th>Unnamed: 19</th>\n",
       "      <th>Unnamed: 20</th>\n",
       "      <th>Unnamed: 21</th>\n",
       "      <th>Unnamed: 22</th>\n",
       "      <th>Unnamed: 23</th>\n",
       "    </tr>\n",
       "  </thead>\n",
       "  <tbody>\n",
       "    <tr>\n",
       "      <th>0</th>\n",
       "      <td>1</td>\n",
       "      <td>9-1 6</td>\n",
       "      <td>1</td>\n",
       "      <td>1</td>\n",
       "      <td>183</td>\n",
       "      <td>µm2</td>\n",
       "      <td>50</td>\n",
       "      <td>µm</td>\n",
       "      <td>19</td>\n",
       "      <td>µm</td>\n",
       "      <td>...</td>\n",
       "      <td>NaN</td>\n",
       "      <td>NaN</td>\n",
       "      <td>NaN</td>\n",
       "      <td>NaN</td>\n",
       "      <td>NaN</td>\n",
       "      <td>NaN</td>\n",
       "      <td>NaN</td>\n",
       "      <td>NaN</td>\n",
       "      <td>NaN</td>\n",
       "      <td>NaN</td>\n",
       "    </tr>\n",
       "    <tr>\n",
       "      <th>1</th>\n",
       "      <td>2</td>\n",
       "      <td>9-1 6</td>\n",
       "      <td>2</td>\n",
       "      <td>1</td>\n",
       "      <td>1670</td>\n",
       "      <td>µm2</td>\n",
       "      <td>152</td>\n",
       "      <td>µm</td>\n",
       "      <td>51</td>\n",
       "      <td>µm</td>\n",
       "      <td>...</td>\n",
       "      <td>NaN</td>\n",
       "      <td>NaN</td>\n",
       "      <td>NaN</td>\n",
       "      <td>NaN</td>\n",
       "      <td>NaN</td>\n",
       "      <td>NaN</td>\n",
       "      <td>NaN</td>\n",
       "      <td>NaN</td>\n",
       "      <td>NaN</td>\n",
       "      <td>NaN</td>\n",
       "    </tr>\n",
       "    <tr>\n",
       "      <th>2</th>\n",
       "      <td>3</td>\n",
       "      <td>9-1 7</td>\n",
       "      <td>1</td>\n",
       "      <td>1</td>\n",
       "      <td>1295</td>\n",
       "      <td>µm2</td>\n",
       "      <td>137</td>\n",
       "      <td>µm</td>\n",
       "      <td>47</td>\n",
       "      <td>µm</td>\n",
       "      <td>...</td>\n",
       "      <td>NaN</td>\n",
       "      <td>NaN</td>\n",
       "      <td>NaN</td>\n",
       "      <td>NaN</td>\n",
       "      <td>NaN</td>\n",
       "      <td>NaN</td>\n",
       "      <td>NaN</td>\n",
       "      <td>NaN</td>\n",
       "      <td>NaN</td>\n",
       "      <td>NaN</td>\n",
       "    </tr>\n",
       "    <tr>\n",
       "      <th>3</th>\n",
       "      <td>4</td>\n",
       "      <td>9-1 7</td>\n",
       "      <td>2</td>\n",
       "      <td>1</td>\n",
       "      <td>2029</td>\n",
       "      <td>µm2</td>\n",
       "      <td>164</td>\n",
       "      <td>µm</td>\n",
       "      <td>56</td>\n",
       "      <td>µm</td>\n",
       "      <td>...</td>\n",
       "      <td>NaN</td>\n",
       "      <td>NaN</td>\n",
       "      <td>NaN</td>\n",
       "      <td>NaN</td>\n",
       "      <td>NaN</td>\n",
       "      <td>NaN</td>\n",
       "      <td>NaN</td>\n",
       "      <td>NaN</td>\n",
       "      <td>NaN</td>\n",
       "      <td>NaN</td>\n",
       "    </tr>\n",
       "    <tr>\n",
       "      <th>4</th>\n",
       "      <td>5</td>\n",
       "      <td>9-1 9</td>\n",
       "      <td>1</td>\n",
       "      <td>1</td>\n",
       "      <td>1063</td>\n",
       "      <td>µm2</td>\n",
       "      <td>134</td>\n",
       "      <td>µm</td>\n",
       "      <td>42</td>\n",
       "      <td>µm</td>\n",
       "      <td>...</td>\n",
       "      <td>NaN</td>\n",
       "      <td>NaN</td>\n",
       "      <td>NaN</td>\n",
       "      <td>NaN</td>\n",
       "      <td>NaN</td>\n",
       "      <td>NaN</td>\n",
       "      <td>NaN</td>\n",
       "      <td>NaN</td>\n",
       "      <td>NaN</td>\n",
       "      <td>NaN</td>\n",
       "    </tr>\n",
       "  </tbody>\n",
       "</table>\n",
       "<p>5 rows × 24 columns</p>\n",
       "</div>"
      ],
      "text/plain": [
       "   ID Sample  No.  No. (target area)  Area Unit  Perimeter Unit.1  Major axis  \\\n",
       "0   1  9-1 6    1                  1   183  µm2         50     µm          19   \n",
       "1   2  9-1 6    2                  1  1670  µm2        152     µm          51   \n",
       "2   3  9-1 7    1                  1  1295  µm2        137     µm          47   \n",
       "3   4  9-1 7    2                  1  2029  µm2        164     µm          56   \n",
       "4   5  9-1 9    1                  1  1063  µm2        134     µm          42   \n",
       "\n",
       "  Unit.2  ...  Unnamed: 14 Unnamed: 15  \\\n",
       "0     µm  ...          NaN         NaN   \n",
       "1     µm  ...          NaN         NaN   \n",
       "2     µm  ...          NaN         NaN   \n",
       "3     µm  ...          NaN         NaN   \n",
       "4     µm  ...          NaN         NaN   \n",
       "\n",
       "   THIS DATA HAS BEEN DOUBLE CHECKED FOR ACCURACY  Unnamed: 17 Unnamed: 18  \\\n",
       "0                                             NaN          NaN         NaN   \n",
       "1                                             NaN          NaN         NaN   \n",
       "2                                             NaN          NaN         NaN   \n",
       "3                                             NaN          NaN         NaN   \n",
       "4                                             NaN          NaN         NaN   \n",
       "\n",
       "   Unnamed: 19  Unnamed: 20  Unnamed: 21  Unnamed: 22  Unnamed: 23  \n",
       "0          NaN          NaN          NaN          NaN          NaN  \n",
       "1          NaN          NaN          NaN          NaN          NaN  \n",
       "2          NaN          NaN          NaN          NaN          NaN  \n",
       "3          NaN          NaN          NaN          NaN          NaN  \n",
       "4          NaN          NaN          NaN          NaN          NaN  \n",
       "\n",
       "[5 rows x 24 columns]"
      ]
     },
     "execution_count": 83,
     "metadata": {},
     "output_type": "execute_result"
    }
   ],
   "source": [
    "excel.head()"
   ]
  },
  {
   "cell_type": "code",
   "execution_count": 84,
   "metadata": {},
   "outputs": [],
   "source": [
    "excel = excel.drop(excel.columns[14:],axis=1)"
   ]
  },
  {
   "cell_type": "markdown",
   "metadata": {},
   "source": [
    "## 3. Aggregating the data"
   ]
  },
  {
   "cell_type": "code",
   "execution_count": 85,
   "metadata": {},
   "outputs": [
    {
     "name": "stderr",
     "output_type": "stream",
     "text": [
      "100%|██████████| 7538/7538 [00:00<00:00, 29560.08it/s]\n"
     ]
    }
   ],
   "source": [
    "area_sets = {}\n",
    "area_sets['file_name'] = {'area': 10, 'count': 5 }\n",
    "for i in tqdm(range(len(excel))):\n",
    "    file_name = excel['Sample'].iloc[i]\n",
    "    area = excel['Area'].iloc[i]\n",
    "    \n",
    "    if file_name in area_sets:\n",
    "        area_sets[file_name]['count'] = area_sets[file_name]['count'] + excel['No. (target area)'].iloc[i]\n",
    "        area_sets[file_name]['area'] = area_sets[file_name]['area']+ area\n",
    "    else:\n",
    "        area_sets[file_name] = {}\n",
    "        area_sets[file_name]['count'] = excel['No. (target area)'].iloc[i]\n",
    "        area_sets[file_name]['area'] = area"
   ]
  },
  {
   "cell_type": "code",
   "execution_count": 86,
   "metadata": {},
   "outputs": [],
   "source": [
    "excel_dataframe = pd.DataFrame.from_dict(area_sets,orient='index')\n",
    "excel_dataframe = excel_dataframe.drop(excel_dataframe.index[[0]])\n",
    "excel_dataframe.to_csv('area_count_agg_2.csv')"
   ]
  },
  {
   "cell_type": "code",
   "execution_count": 87,
   "metadata": {},
   "outputs": [],
   "source": [
    "excel_dataframe = pd.read_csv('area_count_agg_2.csv')\n",
    "excel_dataframe = excel_dataframe.rename(columns={'Unnamed: 0':'file_name'})"
   ]
  },
  {
   "cell_type": "markdown",
   "metadata": {},
   "source": [
    "## 4. Cleaning the dataframe filenames"
   ]
  },
  {
   "cell_type": "code",
   "execution_count": 88,
   "metadata": {},
   "outputs": [
    {
     "name": "stderr",
     "output_type": "stream",
     "text": [
      "100%|██████████| 442/442 [00:00<00:00, 6674.50it/s]\n"
     ]
    }
   ],
   "source": [
    "for i in tqdm(range(len(excel_dataframe))):\n",
    "    orig = excel_dataframe['file_name'].iloc[i]\n",
    "    new = orig.replace(\" \",\"\")\n",
    "    excel_dataframe['file_name'].iloc[i] = new"
   ]
  },
  {
   "cell_type": "markdown",
   "metadata": {},
   "source": [
    "## 4.1 modifying the file names"
   ]
  },
  {
   "cell_type": "code",
   "execution_count": 89,
   "metadata": {},
   "outputs": [
    {
     "name": "stderr",
     "output_type": "stream",
     "text": [
      "100%|██████████| 442/442 [00:00<00:00, 5830.53it/s]\n"
     ]
    }
   ],
   "source": [
    "excel_dataframe['modified_file'] = 0\n",
    "for i in tqdm(range(len(excel_dataframe))):\n",
    "    area = excel_dataframe['area'].iloc[i]\n",
    "    sci_count = excel_dataframe['count'].iloc[i]\n",
    "    file_name = str(excel_dataframe['file_name'].iloc[i])\n",
    "    mod_str = f\"{file_name}-area-[{area}]-schizont-[{sci_count}]\"\n",
    "    excel_dataframe['modified_file'].iloc[i] = mod_str"
   ]
  },
  {
   "cell_type": "markdown",
   "metadata": {},
   "source": [
    "## 5. Moving it to directories"
   ]
  },
  {
   "cell_type": "code",
   "execution_count": 90,
   "metadata": {},
   "outputs": [
    {
     "name": "stdout",
     "output_type": "stream",
     "text": [
      "/home/kanaad/Desktop/Strathclyde/Project/IchMLP/HHP/simulation/cropped pas stained images hhp - 2\n"
     ]
    }
   ],
   "source": [
    "src_dir = os.getcwd()\n",
    "print(src_dir)\n",
    "os.mkdir('object_det_2')"
   ]
  },
  {
   "cell_type": "code",
   "execution_count": 91,
   "metadata": {},
   "outputs": [
    {
     "name": "stderr",
     "output_type": "stream",
     "text": [
      "100%|██████████| 442/442 [00:00<00:00, 1590.12it/s]"
     ]
    },
    {
     "name": "stdout",
     "output_type": "stream",
     "text": [
      "Exception occoured at file 14-181\n",
      "Exception occoured at file 14-195\n",
      "Exception occoured at file 14-199\n",
      "Exception occoured at file 14-7175\n",
      "Exception occoured at file 14-2176\n"
     ]
    },
    {
     "name": "stderr",
     "output_type": "stream",
     "text": [
      "\n"
     ]
    }
   ],
   "source": [
    "dest_dir = src_dir+\"/object_det_2\"\n",
    "\n",
    "for i in tqdm(range(len(excel_dataframe))):\n",
    "    try:   \n",
    "        file_to_copy = excel_dataframe['file_name'].iloc[i] + \".jpg\"\n",
    "        src_file = os.path.join(src_dir,file_to_copy)\n",
    "        shutil.copy(src_file,dest_dir)\n",
    "\n",
    "        dst_file = os.path.join(dest_dir,file_to_copy)\n",
    "        renamed_file = excel_dataframe['modified_file'].iloc[i] + \".jpg\"\n",
    "        new_dst_file_name = os.path.join(dest_dir,renamed_file)\n",
    "\n",
    "        os.rename(dst_file, new_dst_file_name)\n",
    "        os.chdir(dest_dir)\n",
    "    except Exception as e:\n",
    "        except_file = excel_dataframe['file_name'].iloc[i]\n",
    "        print(f'Exception occoured at file {except_file}')\n",
    "        pass\n"
   ]
  },
  {
   "cell_type": "markdown",
   "metadata": {},
   "source": [
    "## 6. Removing infrequently occouring data"
   ]
  },
  {
   "cell_type": "code",
   "execution_count": 92,
   "metadata": {},
   "outputs": [],
   "source": [
    "frequencies = excel_dataframe['count'].value_counts().to_dict()"
   ]
  },
  {
   "cell_type": "markdown",
   "metadata": {},
   "source": [
    "## 7. Creating a new data frame to hold all the new info"
   ]
  },
  {
   "cell_type": "code",
   "execution_count": 93,
   "metadata": {},
   "outputs": [],
   "source": [
    "new_df = pd.DataFrame(columns=['file_name','count'],index=range(len(excel_dataframe)))"
   ]
  },
  {
   "cell_type": "code",
   "execution_count": 94,
   "metadata": {},
   "outputs": [
    {
     "name": "stderr",
     "output_type": "stream",
     "text": [
      "100%|██████████| 442/442 [00:00<00:00, 3795.23it/s]\n"
     ]
    }
   ],
   "source": [
    "for i in tqdm(range(len(excel_dataframe))):\n",
    "    val = excel_dataframe['count'].iloc[i]\n",
    "    if frequencies[val] > 1:\n",
    "        new_df['count'].iloc[i] = val\n",
    "        new_df['file_name'].iloc[i] = excel_dataframe['modified_file'].iloc[i]\n",
    "    else:\n",
    "        pass\n",
    "    "
   ]
  },
  {
   "cell_type": "code",
   "execution_count": 95,
   "metadata": {},
   "outputs": [],
   "source": [
    "new_df.dropna(inplace=True)"
   ]
  },
  {
   "cell_type": "markdown",
   "metadata": {},
   "source": [
    "## 8. Creating train / test DataFrames"
   ]
  },
  {
   "cell_type": "code",
   "execution_count": 96,
   "metadata": {},
   "outputs": [],
   "source": [
    "X = new_df['file_name'].to_numpy()\n",
    "y = new_df['count'].to_numpy()\n",
    "X_train, X_test, y_train, y_test = train_test_split(X ,y ,test_size=0.1,stratify=y)"
   ]
  },
  {
   "cell_type": "code",
   "execution_count": 97,
   "metadata": {},
   "outputs": [],
   "source": [
    "train = pd.DataFrame(columns=['file_name','count'],index=range(len(X_train)))\n",
    "test = pd.DataFrame(columns=['file_name','count'],index=range(len(X_test)))"
   ]
  },
  {
   "cell_type": "code",
   "execution_count": 98,
   "metadata": {},
   "outputs": [
    {
     "name": "stderr",
     "output_type": "stream",
     "text": [
      "100%|██████████| 42/42 [00:00<00:00, 3726.06it/s]\n"
     ]
    }
   ],
   "source": [
    "for i in tqdm(range(len(test))):\n",
    "    test['file_name'].iloc[i] = X_test[i]\n",
    "    test['count'].iloc[i] = y_test[i]"
   ]
  },
  {
   "cell_type": "code",
   "execution_count": 99,
   "metadata": {},
   "outputs": [
    {
     "name": "stderr",
     "output_type": "stream",
     "text": [
      "100%|██████████| 369/369 [00:00<00:00, 4125.30it/s]\n"
     ]
    }
   ],
   "source": [
    "for i in tqdm(range(len(train))):\n",
    "    train['file_name'].iloc[i] = X_train[i]\n",
    "    train['count'].iloc[i] = y_train[i]"
   ]
  },
  {
   "cell_type": "code",
   "execution_count": 104,
   "metadata": {},
   "outputs": [],
   "source": [
    "os.mkdir('train')\n",
    "os.mkdir('test')"
   ]
  },
  {
   "cell_type": "markdown",
   "metadata": {},
   "source": [
    "## 9. Moving all the files to train / test folders"
   ]
  },
  {
   "cell_type": "code",
   "execution_count": 105,
   "metadata": {},
   "outputs": [],
   "source": [
    "src_dir = os.getcwd()"
   ]
  },
  {
   "cell_type": "code",
   "execution_count": 106,
   "metadata": {},
   "outputs": [
    {
     "name": "stderr",
     "output_type": "stream",
     "text": [
      "100%|██████████| 369/369 [00:00<00:00, 1517.35it/s]"
     ]
    },
    {
     "name": "stdout",
     "output_type": "stream",
     "text": [
      "Exception occoured at file 14-2176-area-[2006]-schizont-[2]\n",
      "Exception occoured at file 14-7175-area-[1955]-schizont-[1]\n",
      "Exception occoured at file 14-181-area-[20617]-schizont-[34]\n",
      "Exception occoured at file 14-199-area-[24488]-schizont-[27]\n"
     ]
    },
    {
     "name": "stderr",
     "output_type": "stream",
     "text": [
      "\n"
     ]
    }
   ],
   "source": [
    "dest_dir = src_dir+\"/train\"\n",
    "\n",
    "for i in tqdm(range(len(train))):\n",
    "    try:   \n",
    "        file_to_copy = train['file_name'].iloc[i] + \".jpg\"\n",
    "        src_file = os.path.join(src_dir,file_to_copy)\n",
    "        shutil.copy(src_file,dest_dir)\n",
    "        os.chdir(dest_dir)\n",
    "    except Exception as e:\n",
    "        except_file = train['file_name'].iloc[i]\n",
    "        print(f'Exception occoured at file {except_file}')\n",
    "        pass\n"
   ]
  },
  {
   "cell_type": "code",
   "execution_count": 107,
   "metadata": {},
   "outputs": [
    {
     "name": "stderr",
     "output_type": "stream",
     "text": [
      "100%|██████████| 42/42 [00:00<00:00, 1466.77it/s]"
     ]
    },
    {
     "name": "stdout",
     "output_type": "stream",
     "text": [
      "Exception occoured at file 14-195-area-[6581]-schizont-[3]\n",
      "[Errno 2] No such file or directory: '/home/kanaad/Desktop/Strathclyde/Project/IchMLP/HHP/simulation/cropped pas stained images hhp - 2/object_det_2/14-195-area-[6581]-schizont-[3].jpg'\n"
     ]
    },
    {
     "name": "stderr",
     "output_type": "stream",
     "text": [
      "\n"
     ]
    }
   ],
   "source": [
    "dest_dir = src_dir+\"/test\"\n",
    "\n",
    "for i in tqdm(range(len(test))):\n",
    "    try:   \n",
    "        file_to_copy = test['file_name'].iloc[i] + \".jpg\"\n",
    "        src_file = os.path.join(src_dir,file_to_copy)\n",
    "        shutil.copy(src_file,dest_dir)\n",
    "        os.chdir(dest_dir)\n",
    "    except Exception as e:\n",
    "        except_file = test['file_name'].iloc[i]\n",
    "        print(f'Exception occoured at file {except_file}')\n",
    "        print(e)\n",
    "        pass"
   ]
  },
  {
   "cell_type": "code",
   "execution_count": null,
   "metadata": {},
   "outputs": [],
   "source": []
  },
  {
   "cell_type": "code",
   "execution_count": null,
   "metadata": {},
   "outputs": [],
   "source": []
  }
 ],
 "metadata": {
  "kernelspec": {
   "display_name": "Python 3.6.10 64-bit ('tf_gpu': conda)",
   "language": "python",
   "name": "python361064bittfgpuconda746d66decca542398c9a5f1249c641c2"
  },
  "language_info": {
   "codemirror_mode": {
    "name": "ipython",
    "version": 3
   },
   "file_extension": ".py",
   "mimetype": "text/x-python",
   "name": "python",
   "nbconvert_exporter": "python",
   "pygments_lexer": "ipython3",
   "version": "3.6.10"
  }
 },
 "nbformat": 4,
 "nbformat_minor": 4
}
