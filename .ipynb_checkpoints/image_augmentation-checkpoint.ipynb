{
 "cells": [
  {
   "cell_type": "code",
   "execution_count": 1,
   "metadata": {},
   "outputs": [
    {
     "name": "stdout",
     "output_type": "stream",
     "text": [
      "Currently running on device : /device:GPU:0\n"
     ]
    }
   ],
   "source": [
    "import cv2\n",
    "import pandas as pd\n",
    "from matplotlib.pyplot import imshow \n",
    "import warnings\n",
    "warnings.simplefilter('ignore')\n",
    "from tqdm import tqdm\n",
    "import numpy as np\n",
    "%matplotlib inline\n",
    "import tensorflow as tf\n",
    "import tensorflow.keras as keras\n",
    "from tensorflow.keras.models import Sequential\n",
    "from tensorflow.keras.layers import Dense, Conv2D, Flatten, Dropout\n",
    "import matplotlib.pyplot as plt\n",
    "import datetime, os, time\n",
    "from sklearn import preprocessing\n",
    "from sklearn.model_selection import train_test_split\n",
    "from tensorflow.keras import optimizers\n",
    "from tensorflow.keras.applications.resnet50 import ResNet50\n",
    "from tensorflow.keras.models import Model\n",
    "\n",
    "from tensorflow.keras.callbacks import EarlyStopping\n",
    "\n",
    "## GPU cleaning\n",
    "config = tf.compat.v1.ConfigProto()\n",
    "config.gpu_options.allow_growth = True\n",
    "session = tf.compat.v1.InteractiveSession(config=config)\n",
    "print(f'Currently running on device : {tf.test.gpu_device_name()}')\n",
    "os.chdir(\"/home/kanaad/Desktop/Strathclyde/Project/IchMLP/HHP/simulation/cropped pas stained images hhp - 2/\")"
   ]
  },
  {
   "cell_type": "code",
   "execution_count": 2,
   "metadata": {},
   "outputs": [],
   "source": [
    "def construct_data(height,width,color):\n",
    "    df = pd.DataFrame()\n",
    "    sci = pd.read_csv('areas_.csv')\n",
    "    sci = sci.rename(columns={'Unnamed: 0':'file_name'})\n",
    "    df['sci_area'] = sci['area']\n",
    "    df['sci_count'] = sci['count']\n",
    "    df['file_name'] = sci['file_name']\n",
    "    X = []\n",
    "    y = []\n",
    "    for i in tqdm(range(len(df))):\n",
    "        file = df['file_name'].iloc[i] + \".jpg\"\n",
    "        try:\n",
    "            if color == 'c':\n",
    "                img_bw = cv2.imread(file,cv2.IMREAD_COLOR)\n",
    "            elif color == 'b':\n",
    "                img_bw = cv2.imread(file,cv2.IMREAD_GRAYSCALE)\n",
    "\n",
    "            img_bw = cv2.resize(img_bw,(height,width))\n",
    "            img =  np.array(img_bw) \n",
    "            X.append(img)\n",
    "            sc = df['sci_area'].iloc[i]\n",
    "            y.append(sc)\n",
    "        except Exception as e:\n",
    "            pass\n",
    "    return np.asarray(X) ,np.asarray(y) \n",
    "    "
   ]
  },
  {
   "cell_type": "code",
   "execution_count": 3,
   "metadata": {},
   "outputs": [
    {
     "name": "stderr",
     "output_type": "stream",
     "text": [
      "100%|██████████| 439/439 [00:09<00:00, 46.82it/s]\n"
     ]
    }
   ],
   "source": [
    "X, y = construct_data(512,512,'b')"
   ]
  },
  {
   "cell_type": "code",
   "execution_count": 4,
   "metadata": {},
   "outputs": [
    {
     "data": {
      "text/plain": [
       "<matplotlib.axes._subplots.AxesSubplot at 0x7fbb50661208>"
      ]
     },
     "execution_count": 4,
     "metadata": {},
     "output_type": "execute_result"
    },
    {
     "data": {
      "image/png": "[encoded data removed]",
      "text/plain": [
       "<Figure size 432x288 with 1 Axes>"
      ]
     },
     "metadata": {
      "needs_background": "light"
     },
     "output_type": "display_data"
    }
   ],
   "source": [
    "import seaborn as sns\n",
    "y = np.log(y)\n",
    "sns.distplot(y)"
   ]
  },
  {
   "cell_type": "code",
   "execution_count": 5,
   "metadata": {},
   "outputs": [],
   "source": [
    "scaler = preprocessing.MinMaxScaler()\n",
    "y = y.reshape(-1,1)\n",
    "y = scaler.fit_transform(y)\n",
    "y = y.reshape(-1,)"
   ]
  },
  {
   "cell_type": "code",
   "execution_count": 6,
   "metadata": {},
   "outputs": [],
   "source": [
    "X_train, X_test, y_train, y_test = train_test_split(X, y, test_size=0.20, random_state=42)"
   ]
  },
  {
   "cell_type": "code",
   "execution_count": 7,
   "metadata": {},
   "outputs": [],
   "source": [
    "X_train = X_train.reshape(347,512,512,1)\n",
    "X_test = X_test.reshape(87,512,512,1)"
   ]
  },
  {
   "cell_type": "code",
   "execution_count": 8,
   "metadata": {},
   "outputs": [],
   "source": [
    "# from tensorflow.keras.preprocessing.image import ImageDataGenerator\n",
    "\n",
    "# datagen = ImageDataGenerator(horizontal_flip=True,vertical_flip=True)\n",
    "# it = datagen.flow(X_train,y_train,batch_size=8)"
   ]
  },
  {
   "cell_type": "code",
   "execution_count": 9,
   "metadata": {},
   "outputs": [],
   "source": [
    "def construct_model():\n",
    "    cnn = keras.models.Sequential([\n",
    "    keras.layers.Conv2D(filters=32,kernel_size=2,padding='same',input_shape=(512,512,1),data_format='channels_last',strides=(1,1),kernel_initializer='he_normal'),\n",
    "    keras.layers.LeakyReLU(alpha=0.2),\n",
    "    keras.layers.BatchNormalization(),\n",
    "    keras.layers.MaxPool2D(pool_size=(2,2),strides=2),\n",
    "    keras.layers.BatchNormalization(),\n",
    "    keras.layers.Conv2D(filters=64,kernel_size=2,padding='same',data_format='channels_last',strides=(1,1),kernel_initializer='he_normal'),\n",
    "    keras.layers.LeakyReLU(alpha=0.2),\n",
    "    keras.layers.BatchNormalization(),\n",
    "    keras.layers.MaxPool2D(pool_size=(2,2),strides=2),\n",
    "    keras.layers.BatchNormalization(),\n",
    "    keras.layers.Flatten(),\n",
    "    keras.layers.Dense(64,kernel_initializer='he_normal',activation='selu'),\n",
    "    keras.layers.BatchNormalization(),\n",
    "    keras.layers.Dense(5,kernel_initializer='he_normal',activation='selu'),\n",
    "    keras.layers.BatchNormalization(),\n",
    "    keras.layers.Dense(1,activation='sigmoid')])\n",
    "    \n",
    "    return cnn"
   ]
  },
  {
   "cell_type": "code",
   "execution_count": 22,
   "metadata": {},
   "outputs": [],
   "source": [
    "from keras import backend as K\n",
    "\n",
    "def rmse(y_true, y_pred):\n",
    "    loss = K.abs(y_pred - y_true) * 380\n",
    "    loss = K.mean(loss)\n",
    "    return loss\n",
    "\n",
    "\n",
    "    "
   ]
  },
  {
   "cell_type": "code",
   "execution_count": 10,
   "metadata": {},
   "outputs": [],
   "source": [
    "model = construct_model()"
   ]
  },
  {
   "cell_type": "code",
   "execution_count": 23,
   "metadata": {},
   "outputs": [],
   "source": [
    "adam = keras.optimizers.Adam(learning_rate=0.01)\n",
    "model.compile(optimizer = adam ,loss=rmse,metrics=[rmse])\n",
    "\n",
    "lr_red = tf.keras.callbacks.ReduceLROnPlateau( \n",
    "    monitor='loss',     \n",
    "    patience=2,        \n",
    "    verbose=1,         \n",
    "    mode=\"auto\",       \n",
    "    min_delta=0.0001,  \n",
    "    cooldown=0,        \n",
    "    min_lr=0.00001    \n",
    "    )"
   ]
  },
  {
   "cell_type": "code",
   "execution_count": 11,
   "metadata": {},
   "outputs": [
    {
     "data": {
      "text/plain": [
       "Reusing TensorBoard on port 6006 (pid 7151), started 2:16:36 ago. (Use '!kill 7151' to kill it.)"
      ]
     },
     "metadata": {},
     "output_type": "display_data"
    },
    {
     "data": {
      "text/html": [
       "\n",
       "      <iframe id=\"tensorboard-frame-49e38ca31d3c501a\" width=\"100%\" height=\"800\" frameborder=\"0\">\n",
       "      </iframe>\n",
       "      <script>\n",
       "        (function() {\n",
       "          const frame = document.getElementById(\"tensorboard-frame-49e38ca31d3c501a\");\n",
       "          const url = new URL(\"/\", window.location);\n",
       "          url.port = 6006;\n",
       "          frame.src = url;\n",
       "        })();\n",
       "      </script>\n",
       "  "
      ],
      "text/plain": [
       "<IPython.core.display.HTML object>"
      ]
     },
     "metadata": {},
     "output_type": "display_data"
    }
   ],
   "source": [
    "logs_base_dir = \"./logs\"\n",
    "os.makedirs(logs_base_dir, exist_ok=True)\n",
    "%load_ext tensorboard\n",
    "%tensorboard --logdir {logs_base_dir}"
   ]
  },
  {
   "cell_type": "code",
   "execution_count": 12,
   "metadata": {},
   "outputs": [],
   "source": [
    "es = EarlyStopping(patience=10,restore_best_weights=True)\n",
    "logdir = os.path.join(logs_base_dir, \"custom loss 2\")\n",
    "tb_callback = tf.keras.callbacks.TensorBoard(logdir, histogram_freq=1)"
   ]
  },
  {
   "cell_type": "code",
   "execution_count": 24,
   "metadata": {},
   "outputs": [
    {
     "name": "stdout",
     "output_type": "stream",
     "text": [
      "Train on 347 samples, validate on 87 samples\n",
      "Epoch 1/50\n",
      "347/347 [==============================] - 9s 26ms/sample - loss: 39.6179 - rmse: 39.6749 - val_loss: 66.4674 - val_rmse: 67.1986\n",
      "Epoch 2/50\n",
      "347/347 [==============================] - 8s 23ms/sample - loss: 34.1254 - rmse: 34.0498 - val_loss: 62.8354 - val_rmse: 62.9402\n",
      "Epoch 3/50\n",
      "347/347 [==============================] - 8s 23ms/sample - loss: 27.6807 - rmse: 27.5703 - val_loss: 59.8930 - val_rmse: 60.2076\n",
      "Epoch 4/50\n",
      "347/347 [==============================] - 8s 22ms/sample - loss: 22.4770 - rmse: 22.5042 - val_loss: 61.5753 - val_rmse: 61.8249\n",
      "Epoch 5/50\n",
      "347/347 [==============================] - 8s 23ms/sample - loss: 22.6660 - rmse: 22.7221 - val_loss: 58.5416 - val_rmse: 58.8362\n",
      "Epoch 6/50\n",
      "347/347 [==============================] - 8s 23ms/sample - loss: 18.4749 - rmse: 18.4248 - val_loss: 60.3609 - val_rmse: 60.7095\n",
      "Epoch 7/50\n",
      "347/347 [==============================] - 8s 22ms/sample - loss: 17.3991 - rmse: 17.4139 - val_loss: 61.2570 - val_rmse: 61.7341\n",
      "Epoch 8/50\n",
      "347/347 [==============================] - 8s 23ms/sample - loss: 17.6331 - rmse: 17.7627 - val_loss: 56.8042 - val_rmse: 57.1682\n",
      "Epoch 9/50\n",
      "347/347 [==============================] - 8s 23ms/sample - loss: 17.1143 - rmse: 17.0871 - val_loss: 56.3225 - val_rmse: 56.9140\n",
      "Epoch 10/50\n",
      "347/347 [==============================] - 8s 23ms/sample - loss: 15.5659 - rmse: 15.5351 - val_loss: 56.5425 - val_rmse: 56.6670\n",
      "Epoch 11/50\n",
      "347/347 [==============================] - 8s 22ms/sample - loss: 13.9756 - rmse: 14.0100 - val_loss: 63.8121 - val_rmse: 65.6798\n",
      "Epoch 12/50\n",
      "347/347 [==============================] - 8s 23ms/sample - loss: 15.6851 - rmse: 15.6120 - val_loss: 58.8167 - val_rmse: 59.9805\n",
      "Epoch 13/50\n",
      "347/347 [==============================] - 8s 23ms/sample - loss: 12.2494 - rmse: 12.2495 - val_loss: 56.9658 - val_rmse: 57.5676\n",
      "Epoch 14/50\n",
      "347/347 [==============================] - 8s 24ms/sample - loss: 14.1611 - rmse: 14.1234 - val_loss: 54.8175 - val_rmse: 54.8618\n",
      "Epoch 15/50\n",
      "320/347 [==========================>...] - ETA: 0s - loss: 15.2310 - rmse: 15.2310\n",
      "Epoch 00015: ReduceLROnPlateau reducing learning rate to 0.0009999999776482583.\n",
      "347/347 [==============================] - 8s 24ms/sample - loss: 14.8460 - rmse: 14.7812 - val_loss: 55.7133 - val_rmse: 56.6541\n",
      "Epoch 16/50\n",
      "347/347 [==============================] - 8s 23ms/sample - loss: 12.7814 - rmse: 12.7323 - val_loss: 55.1710 - val_rmse: 56.1478\n",
      "Epoch 17/50\n",
      "347/347 [==============================] - 8s 23ms/sample - loss: 11.9739 - rmse: 11.9748 - val_loss: 54.5439 - val_rmse: 55.3551\n",
      "Epoch 18/50\n",
      "347/347 [==============================] - 8s 23ms/sample - loss: 12.6590 - rmse: 12.6306 - val_loss: 54.4145 - val_rmse: 55.0623\n",
      "Epoch 19/50\n",
      "320/347 [==========================>...] - ETA: 0s - loss: 13.0180 - rmse: 13.0180\n",
      "Epoch 00019: ReduceLROnPlateau reducing learning rate to 9.999999310821295e-05.\n",
      "347/347 [==============================] - 8s 23ms/sample - loss: 12.7224 - rmse: 12.6726 - val_loss: 54.5199 - val_rmse: 55.0873\n",
      "Epoch 20/50\n",
      "347/347 [==============================] - 8s 23ms/sample - loss: 12.1148 - rmse: 12.3738 - val_loss: 54.5229 - val_rmse: 55.0781\n",
      "Epoch 21/50\n",
      "347/347 [==============================] - 8s 23ms/sample - loss: 10.4819 - rmse: 10.5074 - val_loss: 54.5233 - val_rmse: 55.0786\n",
      "Epoch 22/50\n",
      "347/347 [==============================] - 8s 23ms/sample - loss: 12.4701 - rmse: 12.5364 - val_loss: 54.5693 - val_rmse: 55.1112\n",
      "Epoch 23/50\n",
      "347/347 [==============================] - 8s 23ms/sample - loss: 10.4392 - rmse: 10.4928 - val_loss: 54.6159 - val_rmse: 55.1463\n",
      "Epoch 24/50\n",
      "347/347 [==============================] - 8s 23ms/sample - loss: 13.5861 - rmse: 13.8662 - val_loss: 54.6554 - val_rmse: 55.1809\n",
      "Epoch 25/50\n",
      "320/347 [==========================>...] - ETA: 0s - loss: 10.6882 - rmse: 10.6882\n",
      "Epoch 00025: ReduceLROnPlateau reducing learning rate to 1e-05.\n",
      "347/347 [==============================] - 8s 23ms/sample - loss: 11.1270 - rmse: 11.2009 - val_loss: 54.6820 - val_rmse: 55.2025\n",
      "Epoch 26/50\n",
      "347/347 [==============================] - 8s 24ms/sample - loss: 12.9281 - rmse: 13.0326 - val_loss: 54.6843 - val_rmse: 55.1932\n",
      "Epoch 27/50\n",
      "347/347 [==============================] - 8s 23ms/sample - loss: 12.1012 - rmse: 12.0725 - val_loss: 54.6801 - val_rmse: 55.1819\n",
      "Epoch 28/50\n",
      "347/347 [==============================] - 8s 23ms/sample - loss: 10.4969 - rmse: 10.5339 - val_loss: 54.6634 - val_rmse: 55.1551\n"
     ]
    }
   ],
   "source": [
    "history = model.fit(X_train, y_train,\n",
    "                  epochs = 50,\n",
    "                  validation_data=(X_test,y_test),\n",
    "                  callbacks=[tb_callback,es,lr_red],\n",
    "                  verbose=1,\n",
    "                  batch_size = 32)"
   ]
  },
  {
   "cell_type": "code",
   "execution_count": 25,
   "metadata": {},
   "outputs": [
    {
     "data": {
      "image/png": "[encoded data removed]",
      "text/plain": [
       "<Figure size 720x720 with 1 Axes>"
      ]
     },
     "metadata": {
      "needs_background": "light"
     },
     "output_type": "display_data"
    }
   ],
   "source": [
    "pd.DataFrame(history.history).plot(figsize=(10, 10))\n",
    "plt.grid(True)\n",
    "plt.gca().set_ylim()\n",
    "plt.show()"
   ]
  },
  {
   "cell_type": "code",
   "execution_count": 26,
   "metadata": {},
   "outputs": [],
   "source": [
    "def pred_img(inst):\n",
    "    predicted = X_test[inst].reshape(1,512,512,1)\n",
    "    predicted = tf.convert_to_tensor(predicted)\n",
    "    predicted = tf.cast(predicted,dtype=tf.float16)\n",
    "    predicted_result = model.predict(predicted)\n",
    "    predicted_result = np.array(predicted_result)\n",
    "    scaled_result = scaler.inverse_transform(predicted_result)[0][0]\n",
    "    scaled_result = np.exp(scaled_result)\n",
    "    #print(f'Prediction  = {scaled_result}')\n",
    "\n",
    "    actual = y_test[inst]\n",
    "    actual = np.reshape(actual,(-1,1))\n",
    "    actual = scaler.inverse_transform(actual)[0][0]\n",
    "    actual = np.exp(actual)\n",
    "    \n",
    "    #print(f'Actual = {actual}')\n",
    "    #print(f'Difference in predictions {abs(actual-scaled_result ) : .2f}')\n",
    "    error  = (abs(scaled_result - actual) / actual) * 100\n",
    "    #print(f'Error : {error : .2f} %')\n",
    "    img = tf.cast(X_test[inst],dtype=tf.float32)\n",
    "    img = tf.reshape(img,(512,512))\n",
    "    #print(f'Image : ')\n",
    "    \n",
    "    #plt.imshow(img,cmap='Greys')\n",
    "    \n",
    "    return error"
   ]
  },
  {
   "cell_type": "code",
   "execution_count": 27,
   "metadata": {},
   "outputs": [
    {
     "data": {
      "text/plain": [
       "67.83577420443872"
      ]
     },
     "execution_count": 27,
     "metadata": {},
     "output_type": "execute_result"
    }
   ],
   "source": [
    "pred_img(3)"
   ]
  },
  {
   "cell_type": "code",
   "execution_count": 28,
   "metadata": {},
   "outputs": [
    {
     "name": "stderr",
     "output_type": "stream",
     "text": [
      "100%|██████████| 87/87 [00:03<00:00, 27.42it/s]\n"
     ]
    },
    {
     "data": {
      "text/plain": [
       "392.5786817441123"
      ]
     },
     "execution_count": 28,
     "metadata": {},
     "output_type": "execute_result"
    }
   ],
   "source": [
    "errs = []\n",
    "for i in tqdm(range(len(X_test))):\n",
    "    errs.append(pred_img(i))\n",
    "\n",
    "np.mean(errs)"
   ]
  },
  {
   "cell_type": "code",
   "execution_count": 29,
   "metadata": {},
   "outputs": [
    {
     "data": {
      "text/plain": [
       "0.7649363258670346"
      ]
     },
     "execution_count": 29,
     "metadata": {},
     "output_type": "execute_result"
    }
   ],
   "source": [
    "np.min(errs)"
   ]
  },
  {
   "cell_type": "code",
   "execution_count": 19,
   "metadata": {},
   "outputs": [],
   "source": [
    "# model = tf.keras.models.load_model('best_model_ever.h5')"
   ]
  },
  {
   "cell_type": "code",
   "execution_count": 20,
   "metadata": {},
   "outputs": [],
   "source": [
    "# 311.4329474948364"
   ]
  },
  {
   "cell_type": "code",
   "execution_count": 21,
   "metadata": {},
   "outputs": [],
   "source": [
    "# model.save('second_best_model.h5')"
   ]
  },
  {
   "cell_type": "code",
   "execution_count": null,
   "metadata": {},
   "outputs": [],
   "source": []
  }
 ],
 "metadata": {
  "kernelspec": {
   "display_name": "Python 3.6.10 64-bit ('tf_gpu': conda)",
   "language": "python",
   "name": "python361064bittfgpuconda746d66decca542398c9a5f1249c641c2"
  },
  "language_info": {
   "codemirror_mode": {
    "name": "ipython",
    "version": 3
   },
   "file_extension": ".py",
   "mimetype": "text/x-python",
   "name": "python",
   "nbconvert_exporter": "python",
   "pygments_lexer": "ipython3",
   "version": "3.6.10"
  }
 },
 "nbformat": 4,
 "nbformat_minor": 4
}
